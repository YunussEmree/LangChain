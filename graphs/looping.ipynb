{
 "cells": [
  {
   "cell_type": "code",
   "execution_count": 1,
   "id": "3d46fd41",
   "metadata": {},
   "outputs": [
    {
     "name": "stderr",
     "output_type": "stream",
     "text": [
      "\n",
      "[notice] A new release of pip is available: 24.0 -> 25.1.1\n",
      "[notice] To update, run: python.exe -m pip install --upgrade pip\n"
     ]
    },
    {
     "name": "stdout",
     "output_type": "stream",
     "text": [
      "Requirement already satisfied: langgraph in c:\\users\\senyi\\appdata\\local\\programs\\python\\python312\\lib\\site-packages (0.5.4)\n",
      "Requirement already satisfied: langchain-core>=0.1 in c:\\users\\senyi\\appdata\\local\\programs\\python\\python312\\lib\\site-packages (from langgraph) (0.3.71)\n",
      "Requirement already satisfied: langgraph-checkpoint<3.0.0,>=2.1.0 in c:\\users\\senyi\\appdata\\local\\programs\\python\\python312\\lib\\site-packages (from langgraph) (2.1.1)\n",
      "Requirement already satisfied: langgraph-prebuilt<0.6.0,>=0.5.0 in c:\\users\\senyi\\appdata\\local\\programs\\python\\python312\\lib\\site-packages (from langgraph) (0.5.2)\n",
      "Requirement already satisfied: langgraph-sdk<0.2.0,>=0.1.42 in c:\\users\\senyi\\appdata\\local\\programs\\python\\python312\\lib\\site-packages (from langgraph) (0.1.74)\n",
      "Requirement already satisfied: pydantic>=2.7.4 in c:\\users\\senyi\\appdata\\local\\programs\\python\\python312\\lib\\site-packages (from langgraph) (2.11.7)\n",
      "Requirement already satisfied: xxhash>=3.5.0 in c:\\users\\senyi\\appdata\\local\\programs\\python\\python312\\lib\\site-packages (from langgraph) (3.5.0)\n",
      "Requirement already satisfied: langsmith>=0.3.45 in c:\\users\\senyi\\appdata\\local\\programs\\python\\python312\\lib\\site-packages (from langchain-core>=0.1->langgraph) (0.4.8)\n",
      "Requirement already satisfied: tenacity!=8.4.0,<10.0.0,>=8.1.0 in c:\\users\\senyi\\appdata\\local\\programs\\python\\python312\\lib\\site-packages (from langchain-core>=0.1->langgraph) (9.1.2)\n",
      "Requirement already satisfied: jsonpatch<2.0,>=1.33 in c:\\users\\senyi\\appdata\\local\\programs\\python\\python312\\lib\\site-packages (from langchain-core>=0.1->langgraph) (1.33)\n",
      "Requirement already satisfied: PyYAML>=5.3 in c:\\users\\senyi\\appdata\\local\\programs\\python\\python312\\lib\\site-packages (from langchain-core>=0.1->langgraph) (6.0.2)\n",
      "Requirement already satisfied: typing-extensions>=4.7 in c:\\users\\senyi\\appdata\\local\\programs\\python\\python312\\lib\\site-packages (from langchain-core>=0.1->langgraph) (4.14.1)\n",
      "Requirement already satisfied: packaging>=23.2 in c:\\users\\senyi\\appdata\\local\\programs\\python\\python312\\lib\\site-packages (from langchain-core>=0.1->langgraph) (24.2)\n",
      "Requirement already satisfied: ormsgpack>=1.10.0 in c:\\users\\senyi\\appdata\\local\\programs\\python\\python312\\lib\\site-packages (from langgraph-checkpoint<3.0.0,>=2.1.0->langgraph) (1.10.0)\n",
      "Requirement already satisfied: httpx>=0.25.2 in c:\\users\\senyi\\appdata\\local\\programs\\python\\python312\\lib\\site-packages (from langgraph-sdk<0.2.0,>=0.1.42->langgraph) (0.28.1)\n",
      "Requirement already satisfied: orjson>=3.10.1 in c:\\users\\senyi\\appdata\\local\\programs\\python\\python312\\lib\\site-packages (from langgraph-sdk<0.2.0,>=0.1.42->langgraph) (3.11.0)\n",
      "Requirement already satisfied: annotated-types>=0.6.0 in c:\\users\\senyi\\appdata\\local\\programs\\python\\python312\\lib\\site-packages (from pydantic>=2.7.4->langgraph) (0.7.0)\n",
      "Requirement already satisfied: pydantic-core==2.33.2 in c:\\users\\senyi\\appdata\\local\\programs\\python\\python312\\lib\\site-packages (from pydantic>=2.7.4->langgraph) (2.33.2)\n",
      "Requirement already satisfied: typing-inspection>=0.4.0 in c:\\users\\senyi\\appdata\\local\\programs\\python\\python312\\lib\\site-packages (from pydantic>=2.7.4->langgraph) (0.4.1)\n",
      "Requirement already satisfied: anyio in c:\\users\\senyi\\appdata\\local\\programs\\python\\python312\\lib\\site-packages (from httpx>=0.25.2->langgraph-sdk<0.2.0,>=0.1.42->langgraph) (4.9.0)\n",
      "Requirement already satisfied: certifi in c:\\users\\senyi\\appdata\\local\\programs\\python\\python312\\lib\\site-packages (from httpx>=0.25.2->langgraph-sdk<0.2.0,>=0.1.42->langgraph) (2025.7.14)\n",
      "Requirement already satisfied: httpcore==1.* in c:\\users\\senyi\\appdata\\local\\programs\\python\\python312\\lib\\site-packages (from httpx>=0.25.2->langgraph-sdk<0.2.0,>=0.1.42->langgraph) (1.0.9)\n",
      "Requirement already satisfied: idna in c:\\users\\senyi\\appdata\\local\\programs\\python\\python312\\lib\\site-packages (from httpx>=0.25.2->langgraph-sdk<0.2.0,>=0.1.42->langgraph) (3.10)\n",
      "Requirement already satisfied: h11>=0.16 in c:\\users\\senyi\\appdata\\local\\programs\\python\\python312\\lib\\site-packages (from httpcore==1.*->httpx>=0.25.2->langgraph-sdk<0.2.0,>=0.1.42->langgraph) (0.16.0)\n",
      "Requirement already satisfied: jsonpointer>=1.9 in c:\\users\\senyi\\appdata\\local\\programs\\python\\python312\\lib\\site-packages (from jsonpatch<2.0,>=1.33->langchain-core>=0.1->langgraph) (3.0.0)\n",
      "Requirement already satisfied: requests<3,>=2 in c:\\users\\senyi\\appdata\\local\\programs\\python\\python312\\lib\\site-packages (from langsmith>=0.3.45->langchain-core>=0.1->langgraph) (2.32.4)\n",
      "Requirement already satisfied: requests-toolbelt<2.0.0,>=1.0.0 in c:\\users\\senyi\\appdata\\local\\programs\\python\\python312\\lib\\site-packages (from langsmith>=0.3.45->langchain-core>=0.1->langgraph) (1.0.0)\n",
      "Requirement already satisfied: zstandard<0.24.0,>=0.23.0 in c:\\users\\senyi\\appdata\\local\\programs\\python\\python312\\lib\\site-packages (from langsmith>=0.3.45->langchain-core>=0.1->langgraph) (0.23.0)\n",
      "Requirement already satisfied: charset_normalizer<4,>=2 in c:\\users\\senyi\\appdata\\local\\programs\\python\\python312\\lib\\site-packages (from requests<3,>=2->langsmith>=0.3.45->langchain-core>=0.1->langgraph) (3.4.2)\n",
      "Requirement already satisfied: urllib3<3,>=1.21.1 in c:\\users\\senyi\\appdata\\local\\programs\\python\\python312\\lib\\site-packages (from requests<3,>=2->langsmith>=0.3.45->langchain-core>=0.1->langgraph) (2.5.0)\n",
      "Requirement already satisfied: sniffio>=1.1 in c:\\users\\senyi\\appdata\\local\\programs\\python\\python312\\lib\\site-packages (from anyio->httpx>=0.25.2->langgraph-sdk<0.2.0,>=0.1.42->langgraph) (1.3.1)\n",
      "Note: you may need to restart the kernel to use updated packages.\n"
     ]
    }
   ],
   "source": [
    "%pip install langgraph\n",
    "\n",
    "from typing import Dict, TypedDict\n",
    "import random\n",
    "from langgraph.graph import StateGraph, START, END"
   ]
  },
  {
   "cell_type": "code",
   "execution_count": 2,
   "id": "cdd71459",
   "metadata": {},
   "outputs": [],
   "source": [
    "class AgentState(TypedDict):\n",
    "    name: str\n",
    "    number: list[int]\n",
    "    counter: int\n",
    "\n",
    "def greeting_node(state: AgentState) -> AgentState:\n",
    "    print(f\"Hey, {state['name']}, \")\n",
    "    return state\n",
    "\n",
    "def random_number_node(state: AgentState) -> AgentState:\n",
    "    state['number'].append(random.randint(1, 10))\n",
    "    state['counter'] += 1\n",
    "    return state\n",
    "\n",
    "def should_continue(state: AgentState) -> bool:\n",
    "    if state['counter'] < 5:\n",
    "        print(\"ENTERING LOOP \",  state['counter'])\n",
    "        return \"loop\"\n",
    "    else:\n",
    "        print(\"EXITING LOOP \", state['counter'])\n",
    "        return \"exit\""
   ]
  },
  {
   "cell_type": "code",
   "execution_count": 8,
   "id": "f9d9fa2c",
   "metadata": {},
   "outputs": [],
   "source": [
    "graph = StateGraph(AgentState)\n",
    "graph.add_node(\"greeter\", greeting_node)\n",
    "graph.add_node(\"random_number\", random_number_node)\n",
    "graph.add_edge(\"greeter\", \"random_number\")\n",
    "\n",
    "graph.add_conditional_edges(\n",
    "    \"random_number\",\n",
    "    should_continue, \n",
    "    {\n",
    "    \"loop\": \"random_number\",\n",
    "    \"exit\": END\n",
    "    }\n",
    "    )\n",
    "\n",
    "graph.set_entry_point(\"greeter\")\n",
    "\n",
    "\n",
    "\n",
    "app = graph.compile()"
   ]
  },
  {
   "cell_type": "code",
   "execution_count": 9,
   "id": "6b459a81",
   "metadata": {},
   "outputs": [
    {
     "data": {
      "image/png": "[encoded data removed]",
      "text/plain": [
       "<IPython.core.display.Image object>"
      ]
     },
     "metadata": {},
     "output_type": "display_data"
    }
   ],
   "source": [
    "from IPython.display import display, Image\n",
    "display(Image(app.get_graph().draw_mermaid_png()))"
   ]
  },
  {
   "cell_type": "code",
   "execution_count": 5,
   "id": "059613bd",
   "metadata": {},
   "outputs": [
    {
     "name": "stdout",
     "output_type": "stream",
     "text": [
      "Hey, Yunus, \n",
      "ENTERING LOOP  -9\n",
      "ENTERING LOOP  -8\n",
      "ENTERING LOOP  -7\n",
      "ENTERING LOOP  -6\n",
      "ENTERING LOOP  -5\n",
      "ENTERING LOOP  -4\n",
      "ENTERING LOOP  -3\n",
      "ENTERING LOOP  -2\n",
      "ENTERING LOOP  -1\n",
      "ENTERING LOOP  0\n",
      "ENTERING LOOP  1\n",
      "ENTERING LOOP  2\n",
      "ENTERING LOOP  3\n",
      "ENTERING LOOP  4\n",
      "EXITING LOOP  5\n",
      "{'name': 'Yunus', 'number': [6, 4, 2, 9, 1, 1, 10, 5, 1, 4, 1, 6, 1, 1, 1], 'counter': 5}\n"
     ]
    }
   ],
   "source": [
    "answers = app.invoke({\"name\": \"Yunus\", \"number\":[], \"counter\": -10}) #counter starts at x to 5\n",
    "print(answers)  "
   ]
  }
 ],
 "metadata": {
  "kernelspec": {
   "display_name": "Python 3",
   "language": "python",
   "name": "python3"
  },
  "language_info": {
   "codemirror_mode": {
    "name": "ipython",
    "version": 3
   },
   "file_extension": ".py",
   "mimetype": "text/x-python",
   "name": "python",
   "nbconvert_exporter": "python",
   "pygments_lexer": "ipython3",
   "version": "3.12.4"
  }
 },
 "nbformat": 4,
 "nbformat_minor": 5
}
