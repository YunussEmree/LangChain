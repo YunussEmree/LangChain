{
 "cells": [
  {
   "cell_type": "code",
   "execution_count": null,
   "id": "bef3964c",
   "metadata": {},
   "outputs": [],
   "source": [
    "%pip install langgraph\n",
    "\n",
    "from typing import TypedDict, List\n",
    "from langgraph.graph import StateGraph"
   ]
  },
  {
   "cell_type": "code",
   "execution_count": 4,
   "id": "747cf947",
   "metadata": {},
   "outputs": [],
   "source": [
    "class AgentState(TypedDict):\n",
    "    name: str\n",
    "    age: int\n",
    "    final: str"
   ]
  },
  {
   "cell_type": "code",
   "execution_count": 42,
   "id": "26434c4c",
   "metadata": {},
   "outputs": [],
   "source": [
    "def first_node(state: AgentState) -> AgentState:\n",
    "    state[\"final\"] = f\"Hi {state['name']}!\"\n",
    "    return state\n",
    "\n",
    "def second_node(state: AgentState) -> AgentState:\n",
    "    state[\"final\"] = state[\"final\"] + f\" You are {state['age']} years old.\" \n",
    "    return state"
   ]
  },
  {
   "cell_type": "code",
   "execution_count": 46,
   "id": "b9ae3efa",
   "metadata": {},
   "outputs": [],
   "source": [
    "graph = StateGraph(AgentState)\n",
    "graph.add_node(\"greeter\", first_node)\n",
    "graph.add_node(\"age\", second_node)\n",
    "\n",
    "graph.set_entry_point(\"greeter\")\n",
    "graph.add_edge(\"greeter\", \"age\")\n",
    "graph.set_finish_point(\"age\")\n",
    "\n",
    "app = graph.compile()"
   ]
  },
  {
   "cell_type": "code",
   "execution_count": null,
   "id": "4de4f9b7",
   "metadata": {},
   "outputs": [],
   "source": [
    "%pip install ipython\n",
    "\n",
    "from IPython.display import display, Image\n",
    "display(Image(app.get_graph().draw_mermaid_png()))"
   ]
  },
  {
   "cell_type": "code",
   "execution_count": 47,
   "id": "b67e7dc3",
   "metadata": {},
   "outputs": [
    {
     "name": "stdout",
     "output_type": "stream",
     "text": [
      "{'name': 'Yunus', 'age': 20, 'final': 'Hi Yunus! You are 20 years old.'}\n"
     ]
    }
   ],
   "source": [
    "answers = app.invoke({\"name\": \"Yunus\", \"age\": 20})\n",
    "\n",
    "print(answers)"
   ]
  }
 ],
 "metadata": {
  "kernelspec": {
   "display_name": "Python 3",
   "language": "python",
   "name": "python3"
  },
  "language_info": {
   "codemirror_mode": {
    "name": "ipython",
    "version": 3
   },
   "file_extension": ".py",
   "mimetype": "text/x-python",
   "name": "python",
   "nbconvert_exporter": "python",
   "pygments_lexer": "ipython3",
   "version": "3.12.4"
  }
 },
 "nbformat": 4,
 "nbformat_minor": 5
}
